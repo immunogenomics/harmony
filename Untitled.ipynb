{
 "cells": [
  {
   "cell_type": "code",
   "execution_count": 4,
   "metadata": {},
   "outputs": [],
   "source": [
    "library(stringr)\n",
    "library(tidyverse)\n",
    "library(readr)"
   ]
  },
  {
   "cell_type": "code",
   "execution_count": 8,
   "metadata": {},
   "outputs": [],
   "source": [
    "# text <- read_file(\"src/harmony.cpp\")\n",
    "# text <- read_file(\"src/utils.h\")\n",
    "# text <- read_file(\"src/harmony.h\")"
   ]
  },
  {
   "cell_type": "code",
   "execution_count": 14,
   "metadata": {},
   "outputs": [],
   "source": [
    "foo <- function(text) {\n",
    "    text <- gsub(\"fmat\", \"mat\", text)\n",
    "    text <- gsub(\"fvec\", \"vec\", text)\n",
    "    text <- gsub(\"frowvec\", \"rowvec\", text)\n",
    "    text <- gsub(\"fcube\", \"cube\", text)    \n",
    "    return(text)\n",
    "}"
   ]
  },
  {
   "cell_type": "code",
   "execution_count": 18,
   "metadata": {},
   "outputs": [],
   "source": [
    "# read_file(\"src/harmony.cpp\") %>% foo() %>% readr::write_file(\"src/harmony.cpp\")\n",
    "# read_file(\"src/harmony.h\") %>% foo() %>% readr::write_file(\"src/harmony.h\")\n",
    "# read_file(\"src/utils.h\") %>% foo() %>% readr::write_file(\"src/utils.h\")"
   ]
  },
  {
   "cell_type": "code",
   "execution_count": 16,
   "metadata": {},
   "outputs": [],
   "source": [
    "read_file(\"src/utils.h\") %>% foo() %>% readr::write_file(\"src/utils.h\")"
   ]
  }
 ],
 "metadata": {
  "kernelspec": {
   "display_name": "R",
   "language": "R",
   "name": "ir"
  },
  "language_info": {
   "codemirror_mode": "r",
   "file_extension": ".r",
   "mimetype": "text/x-r-source",
   "name": "R",
   "pygments_lexer": "r",
   "version": "3.5.0"
  }
 },
 "nbformat": 4,
 "nbformat_minor": 2
}
